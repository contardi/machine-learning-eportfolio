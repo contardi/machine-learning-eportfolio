{
 "cells": [
  {
   "cell_type": "markdown",
   "id": "2cb0bbc6",
   "metadata": {},
   "source": [
    "# Auto MPG Dataset Exploratory Data Analysis\n",
    "This notebook walks through:\n",
    "\n",
    "1. Data Loading and Overview\n",
    "2. Data Cleaning (Handling Missing Values)\n",
    "3. Descriptive Statistics\n",
    "4. Univariate Analysis (Histograms)\n",
    "5. Bivariate Analysis (Correlation Matrix)\n",
    "6. Feature Selection\n",
    "7. Simple Regression Model\n",
    "8. Simple Regression Model Evaluation\n",
    "9. Different Model Predictions"
   ]
  },
  {
   "cell_type": "code",
   "id": "6417d78f",
   "metadata": {
    "ExecuteTime": {
     "end_time": "2025-05-09T20:51:56.916522Z",
     "start_time": "2025-05-09T20:51:56.913223Z"
    }
   },
   "source": [
    "#Imports\n",
    "import pandas as pd\n",
    "import numpy as np\n",
    "import matplotlib.pyplot as plt\n",
    "\n",
    "from sklearn.model_selection import train_test_split\n",
    "from sklearn.linear_model import LinearRegression\n",
    "from sklearn.tree import DecisionTreeRegressor\n",
    "from sklearn.ensemble import RandomForestRegressor, GradientBoostingRegressor\n",
    "from sklearn.svm import SVR\n",
    "from sklearn.preprocessing import StandardScaler\n",
    "from sklearn.pipeline import make_pipeline\n",
    "from sklearn.neighbors import KNeighborsRegressor\n",
    "from sklearn.neural_network import MLPRegressor\n",
    "from sklearn.metrics import mean_squared_error"
   ],
   "outputs": [],
   "execution_count": 127
  },
  {
   "metadata": {
    "ExecuteTime": {
     "end_time": "2025-05-09T20:51:56.961816Z",
     "start_time": "2025-05-09T20:51:56.952239Z"
    }
   },
   "cell_type": "code",
   "source": [
    "# Load the dataset\n",
    "df_all = pd.read_csv('./data/auto-mpg.csv', na_values=['?'])\n",
    "df = df_all.select_dtypes(include=[np.number])\n",
    "\n",
    "df.head()"
   ],
   "id": "419bd7a0330a9fdb",
   "outputs": [
    {
     "data": {
      "text/plain": [
       "    mpg  cylinders  displacement  horsepower  weight  acceleration  \\\n",
       "0  18.0          8         307.0       130.0    3504          12.0   \n",
       "1  15.0          8         350.0       165.0    3693          11.5   \n",
       "2  18.0          8         318.0       150.0    3436          11.0   \n",
       "3  16.0          8         304.0       150.0    3433          12.0   \n",
       "4  17.0          8         302.0       140.0    3449          10.5   \n",
       "\n",
       "   model year  origin  \n",
       "0          70       1  \n",
       "1          70       1  \n",
       "2          70       1  \n",
       "3          70       1  \n",
       "4          70       1  "
      ],
      "text/html": [
       "<div>\n",
       "<style scoped>\n",
       "    .dataframe tbody tr th:only-of-type {\n",
       "        vertical-align: middle;\n",
       "    }\n",
       "\n",
       "    .dataframe tbody tr th {\n",
       "        vertical-align: top;\n",
       "    }\n",
       "\n",
       "    .dataframe thead th {\n",
       "        text-align: right;\n",
       "    }\n",
       "</style>\n",
       "<table border=\"1\" class=\"dataframe\">\n",
       "  <thead>\n",
       "    <tr style=\"text-align: right;\">\n",
       "      <th></th>\n",
       "      <th>mpg</th>\n",
       "      <th>cylinders</th>\n",
       "      <th>displacement</th>\n",
       "      <th>horsepower</th>\n",
       "      <th>weight</th>\n",
       "      <th>acceleration</th>\n",
       "      <th>model year</th>\n",
       "      <th>origin</th>\n",
       "    </tr>\n",
       "  </thead>\n",
       "  <tbody>\n",
       "    <tr>\n",
       "      <th>0</th>\n",
       "      <td>18.0</td>\n",
       "      <td>8</td>\n",
       "      <td>307.0</td>\n",
       "      <td>130.0</td>\n",
       "      <td>3504</td>\n",
       "      <td>12.0</td>\n",
       "      <td>70</td>\n",
       "      <td>1</td>\n",
       "    </tr>\n",
       "    <tr>\n",
       "      <th>1</th>\n",
       "      <td>15.0</td>\n",
       "      <td>8</td>\n",
       "      <td>350.0</td>\n",
       "      <td>165.0</td>\n",
       "      <td>3693</td>\n",
       "      <td>11.5</td>\n",
       "      <td>70</td>\n",
       "      <td>1</td>\n",
       "    </tr>\n",
       "    <tr>\n",
       "      <th>2</th>\n",
       "      <td>18.0</td>\n",
       "      <td>8</td>\n",
       "      <td>318.0</td>\n",
       "      <td>150.0</td>\n",
       "      <td>3436</td>\n",
       "      <td>11.0</td>\n",
       "      <td>70</td>\n",
       "      <td>1</td>\n",
       "    </tr>\n",
       "    <tr>\n",
       "      <th>3</th>\n",
       "      <td>16.0</td>\n",
       "      <td>8</td>\n",
       "      <td>304.0</td>\n",
       "      <td>150.0</td>\n",
       "      <td>3433</td>\n",
       "      <td>12.0</td>\n",
       "      <td>70</td>\n",
       "      <td>1</td>\n",
       "    </tr>\n",
       "    <tr>\n",
       "      <th>4</th>\n",
       "      <td>17.0</td>\n",
       "      <td>8</td>\n",
       "      <td>302.0</td>\n",
       "      <td>140.0</td>\n",
       "      <td>3449</td>\n",
       "      <td>10.5</td>\n",
       "      <td>70</td>\n",
       "      <td>1</td>\n",
       "    </tr>\n",
       "  </tbody>\n",
       "</table>\n",
       "</div>"
      ]
     },
     "execution_count": 128,
     "metadata": {},
     "output_type": "execute_result"
    }
   ],
   "execution_count": 128
  },
  {
   "cell_type": "code",
   "id": "0f1c2dc0",
   "metadata": {
    "ExecuteTime": {
     "end_time": "2025-05-09T20:51:57.062876Z",
     "start_time": "2025-05-09T20:51:57.059211Z"
    }
   },
   "source": [
    "# Check for missing values\n",
    "df.isnull().sum()"
   ],
   "outputs": [
    {
     "data": {
      "text/plain": [
       "mpg             0\n",
       "cylinders       0\n",
       "displacement    0\n",
       "horsepower      6\n",
       "weight          0\n",
       "acceleration    0\n",
       "model year      0\n",
       "origin          0\n",
       "dtype: int64"
      ]
     },
     "execution_count": 129,
     "metadata": {},
     "output_type": "execute_result"
    }
   ],
   "execution_count": 129
  },
  {
   "cell_type": "code",
   "id": "b33edc5c",
   "metadata": {
    "ExecuteTime": {
     "end_time": "2025-05-09T20:51:57.176262Z",
     "start_time": "2025-05-09T20:51:57.170211Z"
    }
   },
   "source": [
    "# Drop rows with missing values\n",
    "# Missing data can break algorithms or bias results.\n",
    "# For simplicity, I've dropped all rows that had any missing entries.\n",
    "df = df.dropna().reset_index(drop=True)\n",
    "df.isnull().sum()"
   ],
   "outputs": [
    {
     "data": {
      "text/plain": [
       "mpg             0\n",
       "cylinders       0\n",
       "displacement    0\n",
       "horsepower      0\n",
       "weight          0\n",
       "acceleration    0\n",
       "model year      0\n",
       "origin          0\n",
       "dtype: int64"
      ]
     },
     "execution_count": 130,
     "metadata": {},
     "output_type": "execute_result"
    }
   ],
   "execution_count": 130
  },
  {
   "cell_type": "code",
   "id": "6e817c61",
   "metadata": {
    "ExecuteTime": {
     "end_time": "2025-05-09T20:51:57.385216Z",
     "start_time": "2025-05-09T20:51:57.349111Z"
    }
   },
   "source": [
    "# Data types and basic statistics\n",
    "df.info()\n",
    "df.describe()"
   ],
   "outputs": [
    {
     "name": "stdout",
     "output_type": "stream",
     "text": [
      "<class 'pandas.core.frame.DataFrame'>\n",
      "RangeIndex: 392 entries, 0 to 391\n",
      "Data columns (total 8 columns):\n",
      " #   Column        Non-Null Count  Dtype  \n",
      "---  ------        --------------  -----  \n",
      " 0   mpg           392 non-null    float64\n",
      " 1   cylinders     392 non-null    int64  \n",
      " 2   displacement  392 non-null    float64\n",
      " 3   horsepower    392 non-null    float64\n",
      " 4   weight        392 non-null    int64  \n",
      " 5   acceleration  392 non-null    float64\n",
      " 6   model year    392 non-null    int64  \n",
      " 7   origin        392 non-null    int64  \n",
      "dtypes: float64(4), int64(4)\n",
      "memory usage: 24.6 KB\n"
     ]
    },
    {
     "data": {
      "text/plain": [
       "              mpg   cylinders  displacement  horsepower       weight  \\\n",
       "count  392.000000  392.000000    392.000000  392.000000   392.000000   \n",
       "mean    23.445918    5.471939    194.411990  104.469388  2977.584184   \n",
       "std      7.805007    1.705783    104.644004   38.491160   849.402560   \n",
       "min      9.000000    3.000000     68.000000   46.000000  1613.000000   \n",
       "25%     17.000000    4.000000    105.000000   75.000000  2225.250000   \n",
       "50%     22.750000    4.000000    151.000000   93.500000  2803.500000   \n",
       "75%     29.000000    8.000000    275.750000  126.000000  3614.750000   \n",
       "max     46.600000    8.000000    455.000000  230.000000  5140.000000   \n",
       "\n",
       "       acceleration  model year      origin  \n",
       "count    392.000000  392.000000  392.000000  \n",
       "mean      15.541327   75.979592    1.576531  \n",
       "std        2.758864    3.683737    0.805518  \n",
       "min        8.000000   70.000000    1.000000  \n",
       "25%       13.775000   73.000000    1.000000  \n",
       "50%       15.500000   76.000000    1.000000  \n",
       "75%       17.025000   79.000000    2.000000  \n",
       "max       24.800000   82.000000    3.000000  "
      ],
      "text/html": [
       "<div>\n",
       "<style scoped>\n",
       "    .dataframe tbody tr th:only-of-type {\n",
       "        vertical-align: middle;\n",
       "    }\n",
       "\n",
       "    .dataframe tbody tr th {\n",
       "        vertical-align: top;\n",
       "    }\n",
       "\n",
       "    .dataframe thead th {\n",
       "        text-align: right;\n",
       "    }\n",
       "</style>\n",
       "<table border=\"1\" class=\"dataframe\">\n",
       "  <thead>\n",
       "    <tr style=\"text-align: right;\">\n",
       "      <th></th>\n",
       "      <th>mpg</th>\n",
       "      <th>cylinders</th>\n",
       "      <th>displacement</th>\n",
       "      <th>horsepower</th>\n",
       "      <th>weight</th>\n",
       "      <th>acceleration</th>\n",
       "      <th>model year</th>\n",
       "      <th>origin</th>\n",
       "    </tr>\n",
       "  </thead>\n",
       "  <tbody>\n",
       "    <tr>\n",
       "      <th>count</th>\n",
       "      <td>392.000000</td>\n",
       "      <td>392.000000</td>\n",
       "      <td>392.000000</td>\n",
       "      <td>392.000000</td>\n",
       "      <td>392.000000</td>\n",
       "      <td>392.000000</td>\n",
       "      <td>392.000000</td>\n",
       "      <td>392.000000</td>\n",
       "    </tr>\n",
       "    <tr>\n",
       "      <th>mean</th>\n",
       "      <td>23.445918</td>\n",
       "      <td>5.471939</td>\n",
       "      <td>194.411990</td>\n",
       "      <td>104.469388</td>\n",
       "      <td>2977.584184</td>\n",
       "      <td>15.541327</td>\n",
       "      <td>75.979592</td>\n",
       "      <td>1.576531</td>\n",
       "    </tr>\n",
       "    <tr>\n",
       "      <th>std</th>\n",
       "      <td>7.805007</td>\n",
       "      <td>1.705783</td>\n",
       "      <td>104.644004</td>\n",
       "      <td>38.491160</td>\n",
       "      <td>849.402560</td>\n",
       "      <td>2.758864</td>\n",
       "      <td>3.683737</td>\n",
       "      <td>0.805518</td>\n",
       "    </tr>\n",
       "    <tr>\n",
       "      <th>min</th>\n",
       "      <td>9.000000</td>\n",
       "      <td>3.000000</td>\n",
       "      <td>68.000000</td>\n",
       "      <td>46.000000</td>\n",
       "      <td>1613.000000</td>\n",
       "      <td>8.000000</td>\n",
       "      <td>70.000000</td>\n",
       "      <td>1.000000</td>\n",
       "    </tr>\n",
       "    <tr>\n",
       "      <th>25%</th>\n",
       "      <td>17.000000</td>\n",
       "      <td>4.000000</td>\n",
       "      <td>105.000000</td>\n",
       "      <td>75.000000</td>\n",
       "      <td>2225.250000</td>\n",
       "      <td>13.775000</td>\n",
       "      <td>73.000000</td>\n",
       "      <td>1.000000</td>\n",
       "    </tr>\n",
       "    <tr>\n",
       "      <th>50%</th>\n",
       "      <td>22.750000</td>\n",
       "      <td>4.000000</td>\n",
       "      <td>151.000000</td>\n",
       "      <td>93.500000</td>\n",
       "      <td>2803.500000</td>\n",
       "      <td>15.500000</td>\n",
       "      <td>76.000000</td>\n",
       "      <td>1.000000</td>\n",
       "    </tr>\n",
       "    <tr>\n",
       "      <th>75%</th>\n",
       "      <td>29.000000</td>\n",
       "      <td>8.000000</td>\n",
       "      <td>275.750000</td>\n",
       "      <td>126.000000</td>\n",
       "      <td>3614.750000</td>\n",
       "      <td>17.025000</td>\n",
       "      <td>79.000000</td>\n",
       "      <td>2.000000</td>\n",
       "    </tr>\n",
       "    <tr>\n",
       "      <th>max</th>\n",
       "      <td>46.600000</td>\n",
       "      <td>8.000000</td>\n",
       "      <td>455.000000</td>\n",
       "      <td>230.000000</td>\n",
       "      <td>5140.000000</td>\n",
       "      <td>24.800000</td>\n",
       "      <td>82.000000</td>\n",
       "      <td>3.000000</td>\n",
       "    </tr>\n",
       "  </tbody>\n",
       "</table>\n",
       "</div>"
      ]
     },
     "execution_count": 131,
     "metadata": {},
     "output_type": "execute_result"
    }
   ],
   "execution_count": 131
  },
  {
   "cell_type": "code",
   "id": "1c935b21",
   "metadata": {
    "ExecuteTime": {
     "end_time": "2025-05-09T20:51:58.269829Z",
     "start_time": "2025-05-09T20:51:57.491626Z"
    }
   },
   "source": [
    "# Histograms for numeric features\n",
    "df.hist(figsize=(10, 8))\n",
    "plt.tight_layout()\n",
    "plt.show()"
   ],
   "outputs": [
    {
     "data": {
      "text/plain": [
       "<Figure size 1000x800 with 9 Axes>"
      ],
      "image/png": "[encoded data removed]"
     },
     "metadata": {},
     "output_type": "display_data"
    }
   ],
   "execution_count": 132
  },
  {
   "cell_type": "code",
   "id": "1412cbff",
   "metadata": {
    "ExecuteTime": {
     "end_time": "2025-05-09T20:51:58.614943Z",
     "start_time": "2025-05-09T20:51:58.375404Z"
    }
   },
   "source": [
    "# Correlation matrix heatmap\n",
    "corr = df.corr()\n",
    "plt.figure(figsize=(8, 6))\n",
    "plt.matshow(corr, fignum=1)\n",
    "plt.colorbar()\n",
    "plt.xticks(range(len(corr.columns)), corr.columns, rotation=90)\n",
    "plt.yticks(range(len(corr.columns)), corr.columns)\n",
    "plt.show()"
   ],
   "outputs": [
    {
     "data": {
      "text/plain": [
       "<Figure size 800x600 with 2 Axes>"
      ],
      "image/png": "[encoded data removed]"
     },
     "metadata": {},
     "output_type": "display_data"
    }
   ],
   "execution_count": 133
  },
  {
   "cell_type": "markdown",
   "id": "d80c7ca2",
   "metadata": {},
   "source": [
    "## Feature Selection Based on Correlation with 'mpg'"
   ]
  },
  {
   "cell_type": "code",
   "id": "f61a8491",
   "metadata": {
    "ExecuteTime": {
     "end_time": "2025-05-09T20:51:58.671791Z",
     "start_time": "2025-05-09T20:51:58.667352Z"
    }
   },
   "source": [
    "# Select top 5 features most correlated with mpg, higher or lower features had worst results\n",
    "corr_with_mpg = corr['mpg'].abs().sort_values(ascending=False)\n",
    "selected_features = list(corr_with_mpg.index[1:6])  # top 5 excluding 'mpg'\n",
    "selected_features"
   ],
   "outputs": [
    {
     "data": {
      "text/plain": [
       "['weight', 'displacement', 'horsepower', 'cylinders', 'model year']"
      ]
     },
     "execution_count": 134,
     "metadata": {},
     "output_type": "execute_result"
    }
   ],
   "execution_count": 134
  },
  {
   "metadata": {
    "ExecuteTime": {
     "end_time": "2025-05-09T20:51:58.732821Z",
     "start_time": "2025-05-09T20:51:58.729705Z"
    }
   },
   "cell_type": "code",
   "source": [
    "#Selected features: 'weight', 'displacement', 'horsepower', 'cylinders', 'model year'\n",
    "X = df[selected_features]\n",
    "y = df['mpg']"
   ],
   "id": "c04499d955819138",
   "outputs": [],
   "execution_count": 135
  },
  {
   "cell_type": "markdown",
   "id": "7bee7575",
   "metadata": {},
   "source": "## Simple Linear Regression"
  },
  {
   "cell_type": "code",
   "id": "5dc867f1",
   "metadata": {
    "ExecuteTime": {
     "end_time": "2025-05-09T20:51:58.805160Z",
     "start_time": "2025-05-09T20:51:58.800785Z"
    }
   },
   "source": "X_train, X_test, y_train, y_test = train_test_split(X, y, test_size=0.2, random_state=42)",
   "outputs": [],
   "execution_count": 136
  },
  {
   "metadata": {
    "ExecuteTime": {
     "end_time": "2025-05-09T20:52:58.014328Z",
     "start_time": "2025-05-09T20:52:58.007019Z"
    }
   },
   "cell_type": "code",
   "source": [
    "linreg_model = LinearRegression()\n",
    "linreg_model.fit(X_train, y_train)\n",
    "preds = linreg_model.predict(X_test)"
   ],
   "id": "16f6846b1312223c",
   "outputs": [],
   "execution_count": 144
  },
  {
   "metadata": {
    "ExecuteTime": {
     "end_time": "2025-05-09T20:55:49.913907Z",
     "start_time": "2025-05-09T20:55:49.910288Z"
    }
   },
   "cell_type": "code",
   "source": [
    "#Mean Squared Error\n",
    "linreg_model_mse = mean_squared_error(y_test, preds)\n",
    "linreg_model_rmse = np.sqrt(linreg_model_mse)\n",
    "print(f\"Test MSE: {linreg_model_rmse:.2f}\")"
   ],
   "id": "cfcd07370ce08e97",
   "outputs": [
    {
     "name": "stdout",
     "output_type": "stream",
     "text": [
      "Test MSE: 3.96\n"
     ]
    }
   ],
   "execution_count": 152
  },
  {
   "metadata": {
    "ExecuteTime": {
     "end_time": "2025-05-09T20:53:03.770943Z",
     "start_time": "2025-05-09T20:53:03.764320Z"
    }
   },
   "cell_type": "code",
   "source": [
    "i = 8\n",
    "print(\"Features:\\n\", X_test.iloc[i])\n",
    "print(\"Actual mpg:\", y_test.iloc[i])\n",
    "\n",
    "pred = model.predict(X_test.iloc[[i]])\n",
    "print(\"Predicted mpg:\", pred)"
   ],
   "id": "82abafea994dafc6",
   "outputs": [
    {
     "name": "stdout",
     "output_type": "stream",
     "text": [
      "Features:\n",
      " weight          3264.0\n",
      "displacement     225.0\n",
      "horsepower        95.0\n",
      "cylinders          6.0\n",
      "model year        75.0\n",
      "Name: 150, dtype: float64\n",
      "Actual mpg: 19.0\n",
      "Predicted mpg: [20.94303897]\n"
     ]
    }
   ],
   "execution_count": 146
  },
  {
   "metadata": {},
   "cell_type": "markdown",
   "source": "## Predict a new set of values",
   "id": "8555ce7d91502d7c"
  },
  {
   "metadata": {
    "ExecuteTime": {
     "end_time": "2025-05-09T20:53:18.119023Z",
     "start_time": "2025-05-09T20:53:18.113737Z"
    }
   },
   "cell_type": "code",
   "source": [
    "#selected_features -> 'weight', 'displacement', 'horsepower', 'cylinders', 'model year'\n",
    "new_car = pd.DataFrame(\n",
    "    [[1500, 100, 125, 4, 99]],\n",
    "    columns=selected_features\n",
    ")\n",
    "\n",
    "print(\"Columns used by model:\", linreg_model.feature_names_in_)\n",
    "print(\"Columns in new data:  \", new_car.columns.tolist())\n",
    "\n",
    "pred_new = model.predict(new_car)\n",
    "print(\"Predicted mpg:\", pred_new[0])\n"
   ],
   "id": "baa6f3e1cf0dfffa",
   "outputs": [
    {
     "name": "stdout",
     "output_type": "stream",
     "text": [
      "Columns used by model: ['weight' 'displacement' 'horsepower' 'cylinders' 'model year']\n",
      "Columns in new data:   ['weight', 'displacement', 'horsepower', 'cylinders', 'model year']\n",
      "Predicted mpg: 50.2998942940916\n"
     ]
    }
   ],
   "execution_count": 147
  },
  {
   "metadata": {},
   "cell_type": "markdown",
   "source": "## Test With Other Models",
   "id": "2da55e60cf91f327"
  },
  {
   "metadata": {
    "ExecuteTime": {
     "end_time": "2025-05-09T20:53:55.027056Z",
     "start_time": "2025-05-09T20:53:55.021905Z"
    }
   },
   "cell_type": "code",
   "source": [
    "#linreg_model already loaded before\n",
    "tree_model = DecisionTreeRegressor(max_depth=5, random_state=42)\n",
    "rf_model = RandomForestRegressor(n_estimators=100, max_depth=7,\n",
    "                                 random_state=42, n_jobs=-1)\n",
    "gbr_model = GradientBoostingRegressor(n_estimators=200,\n",
    "                                      learning_rate=0.1,\n",
    "                                      max_depth=3,\n",
    "                                      random_state=42)\n",
    "svr_pipeline = make_pipeline(StandardScaler(),\n",
    "                             SVR(kernel='rbf', C=10, epsilon=0.2))\n",
    "knn_model = KNeighborsRegressor(n_neighbors=5)\n",
    "mlp_model = MLPRegressor(hidden_layer_sizes=(50, 50),\n",
    "                         activation='relu',\n",
    "                         solver='adam',\n",
    "                         max_iter=500,\n",
    "                         random_state=42)\n",
    "\n",
    "models = [tree_model, rf_model, gbr_model, svr_pipeline, knn_model, mlp_model]\n",
    "model_names = ['Decision Tree', 'Random Forest', 'Gradient Boosting', 'SVR', 'k-Nearest Neighbors',\n",
    "               'MLP Regressor']"
   ],
   "id": "2ff672b833959413",
   "outputs": [],
   "execution_count": 149
  },
  {
   "metadata": {
    "ExecuteTime": {
     "end_time": "2025-05-09T20:57:09.172905Z",
     "start_time": "2025-05-09T20:57:08.681100Z"
    }
   },
   "cell_type": "code",
   "source": [
    "print(f\"Linear Regression    → Test RMSE: {linreg_model_rmse:.2f} mpg\")\n",
    "\n",
    "for name, mdl in zip(model_names, models):\n",
    "    mdl.fit(X_train, y_train)\n",
    "    preds = mdl.predict(X_test)\n",
    "    rmse = np.sqrt(mean_squared_error(y_test, preds))\n",
    "    print(f\"{name:20s} → Test RMSE: {rmse:.2f} mpg\")"
   ],
   "id": "dc4c4491a9d7ca34",
   "outputs": [
    {
     "name": "stdout",
     "output_type": "stream",
     "text": [
      "Linear Regression    → Test RMSE: 3.96 mpg\n",
      "Decision Tree        → Test RMSE: 3.57 mpg\n",
      "Random Forest        → Test RMSE: 2.55 mpg\n",
      "Gradient Boosting    → Test RMSE: 2.60 mpg\n",
      "SVR                  → Test RMSE: 2.39 mpg\n",
      "k-Nearest Neighbors  → Test RMSE: 4.18 mpg\n",
      "MLP Regressor        → Test RMSE: 3.96 mpg\n"
     ]
    }
   ],
   "execution_count": 158
  },
  {
   "metadata": {},
   "cell_type": "markdown",
   "source": "## Test a single sample",
   "id": "95eb769d41162dd3"
  },
  {
   "metadata": {
    "ExecuteTime": {
     "end_time": "2025-05-09T20:59:49.057322Z",
     "start_time": "2025-05-09T20:59:49.001803Z"
    }
   },
   "cell_type": "code",
   "source": [
    "i = 5\n",
    "X_single = X_test.iloc[[i]]  # keep as DataFrame\n",
    "y_true = y_test.iloc[i]\n",
    "\n",
    "print(f\"\\n--- Inspecting test sample index {i} ---\")\n",
    "print(\"Feature values:\", X_single.to_dict(orient='records')[0])\n",
    "print(f\"True mpg: {y_true:.2f}\\n\")\n",
    "\n",
    "pred = linreg_model.predict(X_single)[0]\n",
    "print(f\"Linear Regression    → Predicted mpg = {pred:.2f}\")\n",
    "for name, mdl in zip(model_names, models):\n",
    "    pred = mdl.predict(X_single)[0]\n",
    "    print(f\"{name:20s} → Predicted mpg = {pred:.2f}\")"
   ],
   "id": "8279c9d24614d6d5",
   "outputs": [
    {
     "name": "stdout",
     "output_type": "stream",
     "text": [
      "\n",
      "--- Inspecting test sample index 5 ---\n",
      "Feature values: {'weight': 2155, 'displacement': 97.0, 'horsepower': 75.0, 'cylinders': 4, 'model year': 76}\n",
      "True mpg: 28.00\n",
      "\n",
      "Linear Regression    → Predicted mpg = 29.09\n",
      "Decision Tree        → Predicted mpg = 25.83\n",
      "Random Forest        → Predicted mpg = 27.31\n",
      "Gradient Boosting    → Predicted mpg = 27.07\n",
      "SVR                  → Predicted mpg = 29.54\n",
      "k-Nearest Neighbors  → Predicted mpg = 33.96\n",
      "MLP Regressor        → Predicted mpg = 28.29\n"
     ]
    }
   ],
   "execution_count": 163
  }
 ],
 "metadata": {},
 "nbformat": 4,
 "nbformat_minor": 5
}
