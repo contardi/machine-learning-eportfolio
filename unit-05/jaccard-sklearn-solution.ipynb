{
 "cells": [
  {
   "cell_type": "markdown",
   "metadata": {},
   "source": [
    "# Jaccard Coefficient Calculation using Scikit-learn\n",
    "\n",
    "This notebook solves the pathological test results problem using scikit-learn's `jaccard_score`."
   ]
  },
  {
   "cell_type": "markdown",
   "metadata": {},
   "source": [
    "## Problem Statement\n",
    "\n",
    "Calculate the Jaccard coefficient for pathological test results of three individuals:\n",
    "\n",
    "| Name | Gender | Fever | Cough | Test-1 | Test-2 | Test-3 | Test-4 |\n",
    "|------|--------|-------|-------|--------|--------|--------|--------|\n",
    "| Jack | M      | Y     | N     | P      | N      | N      | A      |\n",
    "| Mary | F      | Y     | N     | P      | A      | P      | N      |\n",
    "| Jim  | M      | Y     | P     | N      | N      | N      | A      |"
   ]
  },
  {
   "cell_type": "code",
   "metadata": {
    "ExecuteTime": {
     "end_time": "2025-07-16T18:58:20.686498Z",
     "start_time": "2025-07-16T18:58:20.467278Z"
    }
   },
   "source": [
    "import numpy as np\n",
    "import pandas as pd\n",
    "from sklearn.metrics import jaccard_score"
   ],
   "outputs": [],
   "execution_count": 1
  },
  {
   "cell_type": "code",
   "metadata": {
    "ExecuteTime": {
     "end_time": "2025-07-16T19:22:45.438604Z",
     "start_time": "2025-07-16T19:22:45.411398Z"
    }
   },
   "source": [
    "# Create the data as a DataFrame\n",
    "data = {\n",
    "    'Name': ['Jack', 'Mary', 'Jim'],\n",
    "    'Fever': ['Y', 'Y', 'Y'],\n",
    "    'Cough': ['N', 'N', 'P'],\n",
    "    'Test-1': ['P', 'P', 'N'],\n",
    "    'Test-2': ['N', 'A', 'N'],\n",
    "    'Test-3': ['N', 'P', 'N'],\n",
    "    'Test-4': ['A', 'N', 'A']\n",
    "}\n",
    "\n",
    "df = pd.DataFrame(data)\n",
    "print(\"Original Data:\")\n",
    "df"
   ],
   "outputs": [
    {
     "name": "stdout",
     "output_type": "stream",
     "text": [
      "Original Data:\n"
     ]
    },
    {
     "data": {
      "text/plain": [
       "   Name Fever Cough Test-1 Test-2 Test-3 Test-4\n",
       "0  Jack     Y     N      P      N      N      A\n",
       "1  Mary     Y     N      P      A      P      N\n",
       "2   Jim     Y     P      N      N      N      A"
      ],
      "text/html": [
       "<div>\n",
       "<style scoped>\n",
       "    .dataframe tbody tr th:only-of-type {\n",
       "        vertical-align: middle;\n",
       "    }\n",
       "\n",
       "    .dataframe tbody tr th {\n",
       "        vertical-align: top;\n",
       "    }\n",
       "\n",
       "    .dataframe thead th {\n",
       "        text-align: right;\n",
       "    }\n",
       "</style>\n",
       "<table border=\"1\" class=\"dataframe\">\n",
       "  <thead>\n",
       "    <tr style=\"text-align: right;\">\n",
       "      <th></th>\n",
       "      <th>Name</th>\n",
       "      <th>Fever</th>\n",
       "      <th>Cough</th>\n",
       "      <th>Test-1</th>\n",
       "      <th>Test-2</th>\n",
       "      <th>Test-3</th>\n",
       "      <th>Test-4</th>\n",
       "    </tr>\n",
       "  </thead>\n",
       "  <tbody>\n",
       "    <tr>\n",
       "      <th>0</th>\n",
       "      <td>Jack</td>\n",
       "      <td>Y</td>\n",
       "      <td>N</td>\n",
       "      <td>P</td>\n",
       "      <td>N</td>\n",
       "      <td>N</td>\n",
       "      <td>A</td>\n",
       "    </tr>\n",
       "    <tr>\n",
       "      <th>1</th>\n",
       "      <td>Mary</td>\n",
       "      <td>Y</td>\n",
       "      <td>N</td>\n",
       "      <td>P</td>\n",
       "      <td>A</td>\n",
       "      <td>P</td>\n",
       "      <td>N</td>\n",
       "    </tr>\n",
       "    <tr>\n",
       "      <th>2</th>\n",
       "      <td>Jim</td>\n",
       "      <td>Y</td>\n",
       "      <td>P</td>\n",
       "      <td>N</td>\n",
       "      <td>N</td>\n",
       "      <td>N</td>\n",
       "      <td>A</td>\n",
       "    </tr>\n",
       "  </tbody>\n",
       "</table>\n",
       "</div>"
      ]
     },
     "execution_count": 21,
     "metadata": {},
     "output_type": "execute_result"
    }
   ],
   "execution_count": 21
  },
  {
   "cell_type": "markdown",
   "metadata": {},
   "source": "Scikit-learn's `jaccard_score` requires numeric labels"
  },
  {
   "cell_type": "code",
   "metadata": {
    "ExecuteTime": {
     "end_time": "2025-07-16T19:22:48.197402Z",
     "start_time": "2025-07-16T19:22:48.165742Z"
    }
   },
   "source": [
    "df_encoded = df.copy()\n",
    "features = ['Fever', 'Cough', 'Test-1', 'Test-2', 'Test-3', 'Test-4']\n",
    "map = {'Y': 1, 'P': 1, 'N': 0, 'A': 0}\n",
    "\n",
    "# convert categorical data to numeric\n",
    "for column in features:\n",
    "    df_encoded[column] = df_encoded[column].map(map)\n",
    "\n",
    "print(\"Encoded Data:\")\n",
    "df_encoded"
   ],
   "outputs": [
    {
     "name": "stdout",
     "output_type": "stream",
     "text": [
      "Encoded Data:\n"
     ]
    },
    {
     "data": {
      "text/plain": [
       "   Name  Fever  Cough  Test-1  Test-2  Test-3  Test-4\n",
       "0  Jack      1      0       1       0       0       0\n",
       "1  Mary      1      0       1       0       1       0\n",
       "2   Jim      1      1       0       0       0       0"
      ],
      "text/html": [
       "<div>\n",
       "<style scoped>\n",
       "    .dataframe tbody tr th:only-of-type {\n",
       "        vertical-align: middle;\n",
       "    }\n",
       "\n",
       "    .dataframe tbody tr th {\n",
       "        vertical-align: top;\n",
       "    }\n",
       "\n",
       "    .dataframe thead th {\n",
       "        text-align: right;\n",
       "    }\n",
       "</style>\n",
       "<table border=\"1\" class=\"dataframe\">\n",
       "  <thead>\n",
       "    <tr style=\"text-align: right;\">\n",
       "      <th></th>\n",
       "      <th>Name</th>\n",
       "      <th>Fever</th>\n",
       "      <th>Cough</th>\n",
       "      <th>Test-1</th>\n",
       "      <th>Test-2</th>\n",
       "      <th>Test-3</th>\n",
       "      <th>Test-4</th>\n",
       "    </tr>\n",
       "  </thead>\n",
       "  <tbody>\n",
       "    <tr>\n",
       "      <th>0</th>\n",
       "      <td>Jack</td>\n",
       "      <td>1</td>\n",
       "      <td>0</td>\n",
       "      <td>1</td>\n",
       "      <td>0</td>\n",
       "      <td>0</td>\n",
       "      <td>0</td>\n",
       "    </tr>\n",
       "    <tr>\n",
       "      <th>1</th>\n",
       "      <td>Mary</td>\n",
       "      <td>1</td>\n",
       "      <td>0</td>\n",
       "      <td>1</td>\n",
       "      <td>0</td>\n",
       "      <td>1</td>\n",
       "      <td>0</td>\n",
       "    </tr>\n",
       "    <tr>\n",
       "      <th>2</th>\n",
       "      <td>Jim</td>\n",
       "      <td>1</td>\n",
       "      <td>1</td>\n",
       "      <td>0</td>\n",
       "      <td>0</td>\n",
       "      <td>0</td>\n",
       "      <td>0</td>\n",
       "    </tr>\n",
       "  </tbody>\n",
       "</table>\n",
       "</div>"
      ]
     },
     "execution_count": 22,
     "metadata": {},
     "output_type": "execute_result"
    }
   ],
   "execution_count": 22
  },
  {
   "cell_type": "code",
   "metadata": {
    "ExecuteTime": {
     "end_time": "2025-07-16T19:24:27.290491Z",
     "start_time": "2025-07-16T19:24:27.271885Z"
    }
   },
   "source": [
    "jack_encoded = df_encoded[df_encoded['Name'] == 'Jack'][features].values[0]\n",
    "mary_encoded = df_encoded[df_encoded['Name'] == 'Mary'][features].values[0]\n",
    "jim_encoded = df_encoded[df_encoded['Name'] == 'Jim'][features].values[0]\n",
    "\n",
    "print(\"Encoded vectors:\")\n",
    "print(f\"Jack: {jack_encoded}\")\n",
    "print(f\"Mary: {mary_encoded}\")\n",
    "print(f\"Jim:  {jim_encoded}\")"
   ],
   "outputs": [
    {
     "name": "stdout",
     "output_type": "stream",
     "text": [
      "Encoded vectors:\n",
      "Jack: [1 0 1 0 0 0]\n",
      "Mary: [1 0 1 0 1 0]\n",
      "Jim:  [1 1 0 0 0 0]\n"
     ]
    }
   ],
   "execution_count": 25
  },
  {
   "metadata": {},
   "cell_type": "markdown",
   "source": "## Jaccard Scores"
  },
  {
   "metadata": {
    "ExecuteTime": {
     "end_time": "2025-07-16T20:32:17.187507Z",
     "start_time": "2025-07-16T20:32:17.158874Z"
    }
   },
   "cell_type": "code",
   "source": [
    "# (Jack, Mary)\n",
    "jaccard_jack_mary = jaccard_score(jack_encoded, mary_encoded,)\n",
    "print(f\"Jaccard(Jack, Mary) = {jaccard_jack_mary:.2f}\")\n",
    "\n",
    "# (Jack, Jim)\n",
    "jaccard_jack_jim = jaccard_score(jack_encoded, jim_encoded)\n",
    "print(f\"Jaccard(Jack, Jim) = {jaccard_jack_jim:.2f}\")\n",
    "\n",
    "# (Jim, Mary)\n",
    "jaccard_jim_mary = jaccard_score(jim_encoded, mary_encoded)\n",
    "print(f\"Jaccard(Jim, Mary) = {jaccard_jim_mary:.2f}\")"
   ],
   "outputs": [
    {
     "name": "stdout",
     "output_type": "stream",
     "text": [
      "Jaccard(Jack, Mary) = 0.67\n",
      "Jaccard(Jack, Jim) = 0.33\n",
      "Jaccard(Jim, Mary) = 0.25\n"
     ]
    }
   ],
   "execution_count": 27
  }
 ],
 "metadata": {
  "kernelspec": {
   "display_name": "Python 3",
   "language": "python",
   "name": "python3"
  },
  "language_info": {
   "codemirror_mode": {
    "name": "ipython",
    "version": 3
   },
   "file_extension": ".py",
   "mimetype": "text/x-python",
   "name": "python",
   "nbconvert_exporter": "python",
   "pygments_lexer": "ipython3",
   "version": "3.8.0"
  }
 },
 "nbformat": 4,
 "nbformat_minor": 4
}
