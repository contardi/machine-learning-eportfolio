{
 "cells": [
  {
   "cell_type": "markdown",
   "metadata": {},
   "source": [
    "# Population and GDP Analysis (2001-2021)\n",
    "\n",
    "## Task A: Correlation Analysis\n",
    "## Task B: Linear Regression"
   ]
  },
  {
   "cell_type": "markdown",
   "metadata": {},
   "source": [
    "### Import required libraries"
   ]
  },
  {
   "cell_type": "code",
   "execution_count": null,
   "metadata": {},
   "outputs": [],
   "source": [
    "import pandas as pd\n",
    "import numpy as np\n",
    "import matplotlib.pyplot as plt\n",
    "import seaborn as sns\n",
    "from scipy.stats import pearsonr\n",
    "from sklearn.linear_model import LinearRegression\n",
    "from sklearn.metrics import r2_score, mean_squared_error\n",
    "import warnings\n",
    "warnings.filterwarnings('ignore')"
   ]
  },
  {
   "cell_type": "markdown",
   "metadata": {},
   "source": [
    "### Load the datasets"
   ]
  },
  {
   "cell_type": "code",
   "execution_count": null,
   "metadata": {},
   "outputs": [],
   "source": [
    "# Load GDP and Population data\n",
    "gdp_df = pd.read_csv('data/Global_GDP.csv')\n",
    "pop_df = pd.read_csv('data/Global_Population.csv')\n",
    "\n",
    "print(\"GDP Dataset Shape:\", gdp_df.shape)\n",
    "print(\"Population Dataset Shape:\", pop_df.shape)"
   ]
  },
  {
   "cell_type": "markdown",
   "metadata": {},
   "source": [
    "### Explore the data structure"
   ]
  },
  {
   "cell_type": "code",
   "execution_count": null,
   "metadata": {},
   "outputs": [],
   "source": [
    "# Check GDP data structure\n",
    "print(\"GDP Dataset Columns:\")\n",
    "print(gdp_df.columns.tolist()[:10], \"... and year columns\")\n",
    "print(\"\\nFirst 3 rows of GDP data:\")\n",
    "gdp_df.head(3)"
   ]
  },
  {
   "cell_type": "code",
   "execution_count": null,
   "metadata": {},
   "outputs": [],
   "source": [
    "# Check Population data structure\n",
    "print(\"Population Dataset Columns:\")\n",
    "print(pop_df.columns.tolist()[:10], \"... and year columns\")\n",
    "print(\"\\nFirst 3 rows of Population data:\")\n",
    "pop_df.head(3)"
   ]
  },
  {
   "cell_type": "markdown",
   "metadata": {},
   "source": [
    "### Data Preprocessing - Filter years 2001-2021"
   ]
  },
  {
   "cell_type": "code",
   "execution_count": null,
   "metadata": {},
   "outputs": [],
   "source": [
    "# Identify year columns (2001-2021)\n",
    "# Note: GDP data might only go up to 2020\n",
    "years_range = [str(year) for year in range(2001, 2022)]\n",
    "\n",
    "# Find which years are actually available in both datasets\n",
    "gdp_year_cols = [col for col in gdp_df.columns if col in years_range]\n",
    "pop_year_cols = [col for col in pop_df.columns if col in years_range]\n",
    "\n",
    "# Use only years that exist in both datasets\n",
    "available_years = sorted(list(set(gdp_year_cols) & set(pop_year_cols)))\n",
    "\n",
    "print(f\"Years available in GDP data: {gdp_year_cols[0]} to {gdp_year_cols[-1]}\")\n",
    "print(f\"Years available in Population data: {pop_year_cols[0]} to {pop_year_cols[-1]}\")\n",
    "print(f\"\\nCommon years for analysis ({len(available_years)} years): {available_years[0]} to {available_years[-1]}\")"
   ]
  },
  {
   "cell_type": "code",
   "execution_count": null,
   "metadata": {},
   "outputs": [],
   "source": [
    "# Filter columns to include only country names and available years\n",
    "gdp_cols = ['Country Name'] + available_years\n",
    "pop_cols = ['Country Name'] + available_years\n",
    "\n",
    "# Create filtered dataframes\n",
    "gdp_filtered = gdp_df[gdp_cols].copy()\n",
    "pop_filtered = pop_df[pop_cols].copy()\n",
    "\n",
    "print(f\"GDP filtered shape: {gdp_filtered.shape}\")\n",
    "print(f\"Population filtered shape: {pop_filtered.shape}\")"
   ]
  },
  {
   "cell_type": "markdown",
   "metadata": {},
   "source": [
    "### Calculate mean values with missing value handling"
   ]
  },
  {
   "cell_type": "code",
   "execution_count": null,
   "metadata": {},
   "outputs": [],
   "source": [
    "# Convert year columns to numeric, handling any non-numeric values\n",
    "for year in available_years:\n",
    "    gdp_filtered[year] = pd.to_numeric(gdp_filtered[year], errors='coerce')\n",
    "    pop_filtered[year] = pd.to_numeric(pop_filtered[year], errors='coerce')\n",
    "\n",
    "# Calculate mean GDP for each country (2001-2020/2021)\n",
    "gdp_filtered['Mean_GDP'] = gdp_filtered[available_years].mean(axis=1, skipna=True)\n",
    "\n",
    "# Calculate mean population for each country\n",
    "pop_filtered['Mean_Population'] = pop_filtered[available_years].mean(axis=1, skipna=True)\n",
    "\n",
    "print(\"Missing values handled. Mean values calculated.\")"
   ]
  },
  {
   "cell_type": "code",
   "execution_count": null,
   "metadata": {},
   "outputs": [],
   "source": [
    "# Create summary dataframe by merging GDP and Population data\n",
    "summary_df = pd.merge(\n",
    "    gdp_filtered[['Country Name', 'Mean_GDP']],\n",
    "    pop_filtered[['Country Name', 'Mean_Population']],\n",
    "    on='Country Name',\n",
    "    how='inner'\n",
    ")\n",
    "\n",
    "# Calculate per capita GDP\n",
    "summary_df['Per_Capita_GDP'] = summary_df['Mean_GDP'] / summary_df['Mean_Population']\n",
    "\n",
    "# Remove rows with NaN or infinite values\n",
    "summary_df = summary_df.replace([np.inf, -np.inf], np.nan)\n",
    "summary_df = summary_df.dropna()\n",
    "\n",
    "# Remove countries with zero population or GDP\n",
    "summary_df = summary_df[(summary_df['Mean_Population'] > 0) & (summary_df['Mean_GDP'] > 0)]\n",
    "\n",
    "print(f\"Final dataset shape: {summary_df.shape}\")\n",
    "print(f\"Number of countries with complete data: {len(summary_df)}\")\n",
    "print(f\"\\nSample of processed data:\")\n",
    "summary_df.head()"
   ]
  },
  {
   "cell_type": "code",
   "execution_count": null,
   "metadata": {},
   "outputs": [],
   "source": [
    "# Display summary statistics\n",
    "print(\"Summary statistics:\")\n",
    "summary_df[['Mean_Population', 'Mean_GDP', 'Per_Capita_GDP']].describe()"
   ]
  },
  {
   "cell_type": "markdown",
   "metadata": {},
   "source": [
    "## Task A: Correlation Analysis"
   ]
  },
  {
   "cell_type": "code",
   "execution_count": null,
   "metadata": {},
   "outputs": [],
   "source": [
    "# Create scatter plot\n",
    "plt.figure(figsize=(12, 8))\n",
    "\n",
    "# Regular scale plot\n",
    "plt.subplot(2, 2, 1)\n",
    "plt.scatter(summary_df['Mean_Population'], summary_df['Per_Capita_GDP'], alpha=0.6, s=50)\n",
    "plt.xlabel('Mean Population')\n",
    "plt.ylabel('Mean Per Capita GDP (USD)')\n",
    "plt.title('Population vs Per Capita GDP (Linear Scale)')\n",
    "plt.grid(True, alpha=0.3)\n",
    "\n",
    "# Log scale plot\n",
    "plt.subplot(2, 2, 2)\n",
    "plt.scatter(summary_df['Mean_Population'], summary_df['Per_Capita_GDP'], alpha=0.6, s=50)\n",
    "plt.xlabel('Mean Population (log scale)')\n",
    "plt.ylabel('Mean Per Capita GDP (log scale)')\n",
    "plt.title('Population vs Per Capita GDP (Log Scale)')\n",
    "plt.xscale('log')\n",
    "plt.yscale('log')\n",
    "plt.grid(True, alpha=0.3)\n",
    "\n",
    "plt.tight_layout()\n",
    "plt.show()"
   ]
  },
  {
   "cell_type": "code",
   "execution_count": null,
   "metadata": {},
   "outputs": [],
   "source": [
    "# Calculate Pearson Correlation Coefficient\n",
    "correlation, p_value = pearsonr(summary_df['Mean_Population'], summary_df['Per_Capita_GDP'])\n",
    "\n",
    "print(\"=\"*50)\n",
    "print(\"CORRELATION ANALYSIS RESULTS\")\n",
    "print(\"=\"*50)\n",
    "print(f\"Pearson Correlation Coefficient: {correlation:.4f}\")\n",
    "print(f\"P-value: {p_value:.6f}\")\n",
    "\n",
    "# Statistical significance\n",
    "if p_value < 0.05:\n",
    "    print(\"\\nStatistical Significance: YES (p < 0.05)\")\n",
    "else:\n",
    "    print(\"\\nStatistical Significance: NO (p >= 0.05)\")\n",
    "\n",
    "# Correlation strength interpretation\n",
    "if abs(correlation) < 0.3:\n",
    "    strength = \"WEAK\"\n",
    "elif abs(correlation) < 0.7:\n",
    "    strength = \"MODERATE\"\n",
    "else:\n",
    "    strength = \"STRONG\"\n",
    "\n",
    "direction = \"POSITIVE\" if correlation > 0 else \"NEGATIVE\"\n",
    "\n",
    "print(f\"\\nCorrelation Strength: {strength}\")\n",
    "print(f\"Correlation Direction: {direction}\")\n",
    "print(\"\\nInterpretation:\")\n",
    "print(f\"There is a {strength.lower()} {direction.lower()} linear relationship between \")\n",
    "print(f\"mean population and mean per capita GDP across countries.\")"
   ]
  },
  {
   "cell_type": "code",
   "execution_count": null,
   "metadata": {},
   "outputs": [],
   "source": [
    "# Create correlation matrix heatmap\n",
    "plt.figure(figsize=(8, 6))\n",
    "correlation_matrix = summary_df[['Mean_Population', 'Per_Capita_GDP']].corr()\n",
    "sns.heatmap(correlation_matrix, annot=True, cmap='coolwarm', center=0, \n",
    "            fmt='.4f', square=True, linewidths=1, cbar_kws={\"shrink\": 0.8})\n",
    "plt.title('Correlation Matrix: Population vs Per Capita GDP', fontsize=14)\n",
    "plt.tight_layout()\n",
    "plt.show()"
   ]
  },
  {
   "cell_type": "markdown",
   "metadata": {},
   "source": [
    "## Task B: Linear Regression Analysis"
   ]
  },
  {
   "cell_type": "code",
   "execution_count": null,
   "metadata": {},
   "outputs": [],
   "source": [
    "# Prepare data for regression\n",
    "X = summary_df['Mean_Population'].values.reshape(-1, 1)  # Independent variable\n",
    "y = summary_df['Per_Capita_GDP'].values  # Dependent variable\n",
    "\n",
    "# Create and fit the linear regression model\n",
    "model = LinearRegression()\n",
    "model.fit(X, y)\n",
    "\n",
    "# Make predictions\n",
    "y_pred = model.predict(X)\n",
    "\n",
    "# Get model parameters\n",
    "slope = model.coef_[0]\n",
    "intercept = model.intercept_\n",
    "\n",
    "print(\"=\"*50)\n",
    "print(\"LINEAR REGRESSION RESULTS\")\n",
    "print(\"=\"*50)\n",
    "print(f\"\\nRegression Equation:\")\n",
    "print(f\"Per Capita GDP = {slope:.6e} × Population + {intercept:.2f}\")\n",
    "print(f\"\\nModel Parameters:\")\n",
    "print(f\"  - Slope (β₁): {slope:.6e}\")\n",
    "print(f\"  - Intercept (β₀): {intercept:.2f}\")"
   ]
  },
  {
   "cell_type": "code",
   "execution_count": null,
   "metadata": {},
   "outputs": [],
   "source": [
    "# Model evaluation metrics\n",
    "r2 = r2_score(y, y_pred)\n",
    "mse = mean_squared_error(y, y_pred)\n",
    "rmse = np.sqrt(mse)\n",
    "n = len(y)\n",
    "k = 1  # number of predictors\n",
    "adj_r2 = 1 - (1 - r2) * (n - 1) / (n - k - 1)\n",
    "\n",
    "print(\"\\nModel Performance Metrics:\")\n",
    "print(f\"  - R-squared (R²): {r2:.4f}\")\n",
    "print(f\"  - Adjusted R²: {adj_r2:.4f}\")\n",
    "print(f\"  - Mean Squared Error (MSE): {mse:,.2f}\")\n",
    "print(f\"  - Root Mean Squared Error (RMSE): {rmse:,.2f}\")\n",
    "print(f\"\\nInterpretation:\")\n",
    "print(f\"The model explains {r2*100:.1f}% of the variance in Per Capita GDP.\")"
   ]
  },
  {
   "cell_type": "code",
   "execution_count": null,
   "metadata": {},
   "outputs": [],
   "source": [
    "# Visualize the regression line\n",
    "plt.figure(figsize=(10, 6))\n",
    "plt.scatter(X, y, alpha=0.6, s=50, label='Actual data')\n",
    "plt.plot(X, y_pred, color='red', linewidth=2, label='Regression line')\n",
    "plt.xlabel('Mean Population', fontsize=12)\n",
    "plt.ylabel('Mean Per Capita GDP (USD)', fontsize=12)\n",
    "plt.title('Linear Regression: Population vs Per Capita GDP', fontsize=14)\n",
    "plt.legend(fontsize=10)\n",
    "plt.grid(True, alpha=0.3)\n",
    "plt.tight_layout()\n",
    "plt.show()"
   ]
  },
  {
   "cell_type": "markdown",
   "metadata": {},
   "source": [
    "### Residual Analysis"
   ]
  },
  {
   "cell_type": "code",
   "execution_count": null,
   "metadata": {},
   "outputs": [],
   "source": [
    "# Calculate residuals\n",
    "residuals = y - y_pred\n",
    "\n",
    "# Create residual plots\n",
    "fig, ((ax1, ax2), (ax3, ax4)) = plt.subplots(2, 2, figsize=(12, 10))\n",
    "\n",
    "# 1. Residual vs Fitted values\n",
    "ax1.scatter(y_pred, residuals, alpha=0.6)\n",
    "ax1.axhline(y=0, color='red', linestyle='--')\n",
    "ax1.set_xlabel('Fitted Values (Predicted Per Capita GDP)')\n",
    "ax1.set_ylabel('Residuals')\n",
    "ax1.set_title('Residuals vs Fitted Values')\n",
    "ax1.grid(True, alpha=0.3)\n",
    "\n",
    "# 2. Histogram of residuals\n",
    "ax2.hist(residuals, bins=30, edgecolor='black', alpha=0.7)\n",
    "ax2.set_xlabel('Residuals')\n",
    "ax2.set_ylabel('Frequency')\n",
    "ax2.set_title('Distribution of Residuals')\n",
    "ax2.grid(True, alpha=0.3, axis='y')\n",
    "\n",
    "# 3. Q-Q plot\n",
    "from scipy import stats\n",
    "stats.probplot(residuals, dist=\"norm\", plot=ax3)\n",
    "ax3.set_title('Q-Q Plot')\n",
    "ax3.grid(True, alpha=0.3)\n",
    "\n",
    "# 4. Residuals vs Population\n",
    "ax4.scatter(X, residuals, alpha=0.6)\n",
    "ax4.axhline(y=0, color='red', linestyle='--')\n",
    "ax4.set_xlabel('Mean Population')\n",
    "ax4.set_ylabel('Residuals')\n",
    "ax4.set_title('Residuals vs Population')\n",
    "ax4.grid(True, alpha=0.3)\n",
    "\n",
    "plt.tight_layout()\n",
    "plt.show()"
   ]
  },
  {
   "cell_type": "markdown",
   "metadata": {},
   "source": [
    "### Alternative: Log-transformed Regression"
   ]
  },
  {
   "cell_type": "code",
   "execution_count": null,
   "metadata": {},
   "outputs": [],
   "source": [
    "# Log transform the data (already filtered for positive values)\n",
    "X_log = np.log(summary_df['Mean_Population'].values).reshape(-1, 1)\n",
    "y_log = np.log(summary_df['Per_Capita_GDP'].values)\n",
    "\n",
    "# Fit log-transformed model\n",
    "model_log = LinearRegression()\n",
    "model_log.fit(X_log, y_log)\n",
    "y_log_pred = model_log.predict(X_log)\n",
    "\n",
    "# Evaluate log model\n",
    "r2_log = r2_score(y_log, y_log_pred)\n",
    "adj_r2_log = 1 - (1 - r2_log) * (n - 1) / (n - k - 1)\n",
    "\n",
    "print(\"=\"*50)\n",
    "print(\"LOG-TRANSFORMED REGRESSION RESULTS\")\n",
    "print(\"=\"*50)\n",
    "print(f\"\\nLog-transformed equation:\")\n",
    "print(f\"log(Per Capita GDP) = {model_log.coef_[0]:.4f} × log(Population) + {model_log.intercept_:.4f}\")\n",
    "print(f\"\\nModel Performance:\")\n",
    "print(f\"  - R-squared (R²): {r2_log:.4f}\")\n",
    "print(f\"  - Adjusted R²: {adj_r2_log:.4f}\")\n",
    "print(f\"\\nComparison with linear model:\")\n",
    "print(f\"  - Linear R²: {r2:.4f}\")\n",
    "print(f\"  - Log-transformed R²: {r2_log:.4f}\")\n",
    "print(f\"  - Improvement: {(r2_log - r2)*100:.1f} percentage points\")"
   ]
  },
  {
   "cell_type": "code",
   "execution_count": null,
   "metadata": {},
   "outputs": [],
   "source": [
    "# Visualize both models\n",
    "fig, (ax1, ax2) = plt.subplots(1, 2, figsize=(14, 6))\n",
    "\n",
    "# Linear model\n",
    "ax1.scatter(X, y, alpha=0.6, s=50, label='Data')\n",
    "ax1.plot(X, y_pred, color='red', linewidth=2, label=f'Linear fit (R²={r2:.3f})')\n",
    "ax1.set_xlabel('Mean Population')\n",
    "ax1.set_ylabel('Mean Per Capita GDP')\n",
    "ax1.set_title('Linear Model')\n",
    "ax1.legend()\n",
    "ax1.grid(True, alpha=0.3)\n",
    "\n",
    "# Log-transformed model\n",
    "ax2.scatter(X_log, y_log, alpha=0.6, s=50, label='Log-transformed data')\n",
    "ax2.plot(X_log, y_log_pred, color='red', linewidth=2, label=f'Linear fit (R²={r2_log:.3f})')\n",
    "ax2.set_xlabel('log(Mean Population)')\n",
    "ax2.set_ylabel('log(Mean Per Capita GDP)')\n",
    "ax2.set_title('Log-transformed Model')\n",
    "ax2.legend()\n",
    "ax2.grid(True, alpha=0.3)\n",
    "\n",
    "plt.tight_layout()\n",
    "plt.show()"
   ]
  },
  {
   "cell_type": "markdown",
   "metadata": {},
   "source": [
    "## Summary and Conclusions\n",
    "\n",
    "### Task A - Correlation Analysis Summary:\n",
    "- Calculated the Pearson correlation coefficient between mean population and mean per capita GDP\n",
    "- Visualized the relationship using scatter plots (both linear and log scales)\n",
    "- Interpreted the strength and direction of the correlation\n",
    "\n",
    "### Task B - Linear Regression Summary:\n",
    "- Performed linear regression with population as independent variable and per capita GDP as dependent variable\n",
    "- Evaluated model performance using R², MSE, and RMSE\n",
    "- Conducted residual analysis to check model assumptions\n",
    "- Compared linear and log-transformed models\n",
    "\n",
    "### Key Findings:\n",
    "1. The correlation analysis reveals the nature of the relationship between population size and economic prosperity (per capita GDP)\n",
    "2. The regression model quantifies this relationship and allows for prediction\n",
    "3. Residual analysis helps identify any violations of regression assumptions\n",
    "4. Log transformation may provide a better fit if the relationship is non-linear"
   ]
  }
 ],
 "metadata": {
  "kernelspec": {
   "display_name": "Python 3",
   "language": "python",
   "name": "python3"
  },
  "language_info": {
   "codemirror_mode": {
    "name": "ipython",
    "version": 3
   },
   "file_extension": ".py",
   "mimetype": "text/x-python",
   "name": "python",
   "nbconvert_exporter": "python",
   "pygments_lexer": "ipython3",
   "version": "3.8.0"
  }
 },
 "nbformat": 4,
 "nbformat_minor": 4
}