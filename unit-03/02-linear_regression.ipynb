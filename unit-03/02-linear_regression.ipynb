{
 "cells": [
  {
   "cell_type": "code",
   "metadata": {
    "ExecuteTime": {
     "end_time": "2025-07-16T17:36:34.791843Z",
     "start_time": "2025-07-16T17:36:34.434154Z"
    }
   },
   "source": [
    "import matplotlib.pyplot as plt\n",
    "from scipy import stats\n",
    "\n",
    "#Create the arrays that represent the values of the x and y axis\n",
    "x = [5,7,8,7,2,17,2,9,4,11,12,9,6]\n",
    "y = [99,86,87,88,111,86,103,87,94,78,77,85,86]\n",
    "\n",
    "#Execute a method that returns some important key values of Linear Regression\n",
    "slope, intercept, r, p, std_err = stat.linregress(x, y)\n",
    "\n",
    "# measure the correlation \n",
    "corr, _ = stat.pearsonr(x, y)\n",
    "print('Pearsons correlation: %.3f' % corr)\n",
    "\n",
    "#Create a function that uses the slope and intercept values to return a new value. \n",
    "#This new value represents where on the y-axis the corresponding x value will be placed\n",
    "def myfunc(x):\n",
    "  return slope * x + intercept\n",
    "\n",
    "#Run each value of the x array through the function. This will result in a new array with new values for the y-axis\n",
    "mymodel = list(map(myfunc, x))\n",
    "\n",
    "#Draw the original scatter plot & the line of linear regression\n",
    "plt.scatter(x, y)\n",
    "plt.plot(x, mymodel)\n",
    "plt.show()\n"
   ],
   "outputs": [
    {
     "ename": "NameError",
     "evalue": "name 'stat' is not defined",
     "output_type": "error",
     "traceback": [
      "\u001B[0;31m---------------------------------------------------------------------------\u001B[0m",
      "\u001B[0;31mNameError\u001B[0m                                 Traceback (most recent call last)",
      "Cell \u001B[0;32mIn[1], line 9\u001B[0m\n\u001B[1;32m      6\u001B[0m y \u001B[38;5;241m=\u001B[39m [\u001B[38;5;241m99\u001B[39m,\u001B[38;5;241m86\u001B[39m,\u001B[38;5;241m87\u001B[39m,\u001B[38;5;241m88\u001B[39m,\u001B[38;5;241m111\u001B[39m,\u001B[38;5;241m86\u001B[39m,\u001B[38;5;241m103\u001B[39m,\u001B[38;5;241m87\u001B[39m,\u001B[38;5;241m94\u001B[39m,\u001B[38;5;241m78\u001B[39m,\u001B[38;5;241m77\u001B[39m,\u001B[38;5;241m85\u001B[39m,\u001B[38;5;241m86\u001B[39m]\n\u001B[1;32m      8\u001B[0m \u001B[38;5;66;03m#Execute a method that returns some important key values of Linear Regression\u001B[39;00m\n\u001B[0;32m----> 9\u001B[0m slope, intercept, r, p, std_err \u001B[38;5;241m=\u001B[39m \u001B[43mstat\u001B[49m\u001B[38;5;241m.\u001B[39mlinregress(x, y)\n\u001B[1;32m     11\u001B[0m \u001B[38;5;66;03m# measure the correlation \u001B[39;00m\n\u001B[1;32m     12\u001B[0m corr, _ \u001B[38;5;241m=\u001B[39m stat\u001B[38;5;241m.\u001B[39mpearsonr(x, y)\n",
      "\u001B[0;31mNameError\u001B[0m: name 'stat' is not defined"
     ]
    }
   ],
   "execution_count": 1
  },
  {
   "cell_type": "markdown",
   "metadata": {},
   "source": [
    "## Predict Future Values"
   ]
  },
  {
   "cell_type": "code",
   "execution_count": 1,
   "metadata": {},
   "outputs": [
    {
     "name": "stdout",
     "output_type": "stream",
     "text": [
      "85.59308314937454\n"
     ]
    }
   ],
   "source": [
    "from scipy import stats\n",
    "\n",
    "x = [5,7,8,7,2,17,2,9,4,11,12,9,6]\n",
    "y = [99,86,87,88,111,86,103,87,94,78,77,85,86]\n",
    "\n",
    "slope, intercept, r, p, std_err = stats.linregress(x, y)\n",
    "\n",
    "def myfunc(x):\n",
    "  return intercept + slope * x \n",
    "\n",
    "speed = myfunc(10)\n",
    "\n",
    "print(speed)"
   ]
  },
  {
   "attachments": {
    "img_linear_regression2.png": {
     "image/png": "[encoded data removed]"
    }
   },
   "cell_type": "markdown",
   "metadata": {},
   "source": [
    "![img_linear_regression2.png](attachment:img_linear_regression2.png)"
   ]
  },
  {
   "cell_type": "markdown",
   "metadata": {},
   "source": [
    "If x=10 then predicted y is 85.59"
   ]
  }
 ],
 "metadata": {
  "kernelspec": {
   "display_name": "Python 3",
   "language": "python",
   "name": "python3"
  },
  "language_info": {
   "codemirror_mode": {
    "name": "ipython",
    "version": 3
   },
   "file_extension": ".py",
   "mimetype": "text/x-python",
   "name": "python",
   "nbconvert_exporter": "python",
   "pygments_lexer": "ipython3",
   "version": "3.7.6"
  }
 },
 "nbformat": 4,
 "nbformat_minor": 4
}
